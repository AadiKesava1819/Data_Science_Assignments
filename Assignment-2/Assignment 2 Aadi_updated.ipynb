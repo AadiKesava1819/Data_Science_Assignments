{
 "cells": [
  {
   "cell_type": "code",
   "execution_count": 22,
   "id": "3282b01e-9fea-4682-806d-58bfac3381fd",
   "metadata": {},
   "outputs": [],
   "source": [
    "from scipy import stats\n",
    "import numpy as np\n",
    "import pandas as pd"
   ]
  },
  {
   "cell_type": "code",
   "execution_count": 24,
   "id": "590d2664-12a2-40f9-8e08-e421377efb0b",
   "metadata": {},
   "outputs": [
    {
     "data": {
      "text/plain": [
       "0     1.13\n",
       "1     1.55\n",
       "2     1.43\n",
       "3     0.92\n",
       "4     1.25\n",
       "5     1.36\n",
       "6     1.32\n",
       "7     0.85\n",
       "8     1.07\n",
       "9     1.48\n",
       "10    1.20\n",
       "11    1.33\n",
       "12    1.18\n",
       "13    1.22\n",
       "14    1.29\n",
       "dtype: float64"
      ]
     },
     "execution_count": 24,
     "metadata": {},
     "output_type": "execute_result"
    }
   ],
   "source": [
    "df=pd.Series([1.13, 1.55, 1.43, 0.92, 1.25, 1.36, 1.32, 0.85, 1.07, 1.48, 1.20, 1.33, 1.18, 1.22, 1.29])\n",
    "df"
   ]
  },
  {
   "cell_type": "markdown",
   "id": "0fa7456f-a972-43b6-8043-a7c371804fcc",
   "metadata": {},
   "source": [
    "# 99% Confidence Interval Using Sample Standard Deviation"
   ]
  },
  {
   "cell_type": "code",
   "execution_count": 26,
   "id": "5d9402e7-2113-4b5b-a439-a5ae82e58c41",
   "metadata": {},
   "outputs": [
    {
     "data": {
      "text/plain": [
       "1.2386666666666666"
      ]
     },
     "execution_count": 26,
     "metadata": {},
     "output_type": "execute_result"
    }
   ],
   "source": [
    "# Sample Mean\n",
    "\n",
    "sample_mean = np.mean(df)\n",
    "sample_mean"
   ]
  },
  {
   "cell_type": "code",
   "execution_count": 28,
   "id": "50d38ebc-3b55-44dd-af10-604609c1f08b",
   "metadata": {},
   "outputs": [
    {
     "data": {
      "text/plain": [
       "0.19316412956959936"
      ]
     },
     "execution_count": 28,
     "metadata": {},
     "output_type": "execute_result"
    }
   ],
   "source": [
    "# Sample Standard Deviation\n",
    "\n",
    "sample_std = np.std(df, ddof=1)\n",
    "sample_std"
   ]
  },
  {
   "cell_type": "code",
   "execution_count": 30,
   "id": "0af69e40-c1eb-4f36-bb86-cab037cbd25a",
   "metadata": {},
   "outputs": [
    {
     "data": {
      "text/plain": [
       "15"
      ]
     },
     "execution_count": 30,
     "metadata": {},
     "output_type": "execute_result"
    }
   ],
   "source": [
    "# Sample Size\n",
    "\n",
    "n = len(df)\n",
    "n"
   ]
  },
  {
   "cell_type": "code",
   "execution_count": 32,
   "id": "e012131d-13fe-4a6a-b7ce-1785b32bfbbe",
   "metadata": {},
   "outputs": [
    {
     "data": {
      "text/plain": [
       "14"
      ]
     },
     "execution_count": 32,
     "metadata": {},
     "output_type": "execute_result"
    }
   ],
   "source": [
    "# Degrees of Freedom\n",
    "\n",
    "da = n-1\n",
    "da"
   ]
  },
  {
   "cell_type": "code",
   "execution_count": 34,
   "id": "20aa053c-6e12-4e07-876a-3c3484986df7",
   "metadata": {},
   "outputs": [
    {
     "data": {
      "text/plain": [
       "2.976842734370834"
      ]
     },
     "execution_count": 34,
     "metadata": {},
     "output_type": "execute_result"
    }
   ],
   "source": [
    "# Critical t-value for 99% confidence interval\n",
    "\n",
    "t_critical = stats.t.ppf(0.995, da)\n",
    "t_critical"
   ]
  },
  {
   "cell_type": "code",
   "execution_count": 36,
   "id": "9052b2b4-1a2a-4672-ac5f-07365308dfbd",
   "metadata": {},
   "outputs": [
    {
     "data": {
      "text/plain": [
       "0.14846932822817596"
      ]
     },
     "execution_count": 36,
     "metadata": {},
     "output_type": "execute_result"
    }
   ],
   "source": [
    "# Margin of error using t-distribution\n",
    "\n",
    "margin_of_error_t = t_critical * (sample_std / np.sqrt(n))\n",
    "margin_of_error_t"
   ]
  },
  {
   "cell_type": "code",
   "execution_count": 38,
   "id": "5cd8b8c1-2415-481e-86d2-eeb5990eb55a",
   "metadata": {},
   "outputs": [],
   "source": [
    "# Confidence interval using t-distribution\n",
    "\n",
    "ci_t_lower = sample_mean - margin_of_error_t\n",
    "ci_t_upper = sample_mean + margin_of_error_t"
   ]
  },
  {
   "cell_type": "code",
   "execution_count": 40,
   "id": "cf5a796e-f89f-459a-a9d0-49d807238ce8",
   "metadata": {},
   "outputs": [
    {
     "name": "stdout",
     "output_type": "stream",
     "text": [
      "99% Confidence Interval using sample standard deviation: (1.090, 1.387)\n"
     ]
    }
   ],
   "source": [
    "print(f\"99% Confidence Interval using sample standard deviation: ({ci_t_lower:.3f}, {ci_t_upper:.3f})\")"
   ]
  },
  {
   "cell_type": "markdown",
   "id": "01a08321-e03c-4b57-ac0e-5b5c80b7377e",
   "metadata": {},
   "source": [
    "# 99% Confidence Interval Using Known Population Standard Deviation"
   ]
  },
  {
   "cell_type": "code",
   "execution_count": 42,
   "id": "5374ecce-ed95-46b1-88a5-7fc0200c64d9",
   "metadata": {},
   "outputs": [],
   "source": [
    "# Given population standard deviation\n",
    "\n",
    "population_std = 0.2"
   ]
  },
  {
   "cell_type": "code",
   "execution_count": 44,
   "id": "0c75ee59-39ab-42f1-a851-1da5c64260de",
   "metadata": {},
   "outputs": [
    {
     "data": {
      "text/plain": [
       "2.5758293035489004"
      ]
     },
     "execution_count": 44,
     "metadata": {},
     "output_type": "execute_result"
    }
   ],
   "source": [
    "# Critical z-value for 99% confidence interval\n",
    "\n",
    "z_critical = stats.norm.ppf(0.995)\n",
    "z_critical"
   ]
  },
  {
   "cell_type": "code",
   "execution_count": 46,
   "id": "b2d342c8-a8cc-4d35-a8f8-00076ceb7516",
   "metadata": {},
   "outputs": [
    {
     "data": {
      "text/plain": [
       "0.13301525327090588"
      ]
     },
     "execution_count": 46,
     "metadata": {},
     "output_type": "execute_result"
    }
   ],
   "source": [
    "# Margin of error using z-distribution\n",
    "\n",
    "margin_of_error_z = z_critical * (population_std / np.sqrt(n))\n",
    "margin_of_error_z"
   ]
  },
  {
   "cell_type": "code",
   "execution_count": 52,
   "id": "c1983000-ae18-42e2-83f4-33c7cf47048c",
   "metadata": {},
   "outputs": [],
   "source": [
    "# Confidence interval using z-distribution\n",
    "\n",
    "ci_z_lower = sample_mean - margin_of_error_z\n",
    "ci_z_upper = sample_mean + margin_of_error_z"
   ]
  },
  {
   "cell_type": "code",
   "execution_count": 54,
   "id": "de94df3f-6fa2-425d-94b2-8e665b8db3fa",
   "metadata": {},
   "outputs": [
    {
     "name": "stdout",
     "output_type": "stream",
     "text": [
      "99% Confidence Interval using known population standard deviation: (1.106, 1.372)\n"
     ]
    }
   ],
   "source": [
    "print(f\"99% Confidence Interval using known population standard deviation: ({ci_z_lower:.3f}, {ci_z_upper:.3f})\")"
   ]
  },
  {
   "cell_type": "code",
   "execution_count": null,
   "id": "2a9b8b6c-1a2c-4a0c-bd2a-e09e6d72d947",
   "metadata": {},
   "outputs": [],
   "source": []
  }
 ],
 "metadata": {
  "kernelspec": {
   "display_name": "Python 3 (ipykernel)",
   "language": "python",
   "name": "python3"
  },
  "language_info": {
   "codemirror_mode": {
    "name": "ipython",
    "version": 3
   },
   "file_extension": ".py",
   "mimetype": "text/x-python",
   "name": "python",
   "nbconvert_exporter": "python",
   "pygments_lexer": "ipython3",
   "version": "3.12.4"
  }
 },
 "nbformat": 4,
 "nbformat_minor": 5
}
