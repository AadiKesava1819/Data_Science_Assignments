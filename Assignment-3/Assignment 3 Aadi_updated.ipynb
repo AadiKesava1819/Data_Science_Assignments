{
 "cells": [
  {
   "cell_type": "markdown",
   "id": "5459b743-89c7-41db-939e-1a00abe6f00b",
   "metadata": {},
   "source": [
    "# Exercise 1 : Prime Numbers"
   ]
  },
  {
   "cell_type": "code",
   "execution_count": 11,
   "id": "5fa2b8b0-2b8c-4cbd-9146-3f679ce8b167",
   "metadata": {},
   "outputs": [
    {
     "name": "stdin",
     "output_type": "stream",
     "text": [
      "Enter a number:  7\n"
     ]
    },
    {
     "name": "stdout",
     "output_type": "stream",
     "text": [
      "7 is a prime number.\n"
     ]
    }
   ],
   "source": [
    "def is_prime(number):\n",
    "    if number <= 1:\n",
    "        return False\n",
    "    if number == 2:\n",
    "        return True\n",
    "    if number % 2 == 0:\n",
    "        return False\n",
    "    \n",
    "    for i in range(3, int(number**0.5) + 1, 2):\n",
    "        if number % i == 0:\n",
    "            return False\n",
    "    \n",
    "    return True\n",
    "\n",
    "num = int(input(\"Enter a number: \"))\n",
    "if is_prime(num):\n",
    "    print(f\"{num} is a prime number.\")\n",
    "else:\n",
    "    print(f\"{num} is not a prime number.\")"
   ]
  },
  {
   "cell_type": "markdown",
   "id": "4c652aa0-266a-4138-a709-ef1fbc8395ea",
   "metadata": {},
   "source": [
    "# Exercise 2 : Product of Two Random Numbers"
   ]
  },
  {
   "cell_type": "code",
   "execution_count": 15,
   "id": "161fda1e-500e-4014-876f-4b22cabd8483",
   "metadata": {},
   "outputs": [
    {
     "name": "stdin",
     "output_type": "stream",
     "text": [
      "What is 2 * 10  is    20\n"
     ]
    },
    {
     "name": "stdout",
     "output_type": "stream",
     "text": [
      "Correct! Well done!\n"
     ]
    }
   ],
   "source": [
    "import random\n",
    "\n",
    "# Generating  two random numbers between 1 and 10\n",
    "num1 = random.randint(1, 10)\n",
    "num2 = random.randint(1, 10)\n",
    "\n",
    "user_answer = int(input(f\"What is {num1} * {num2}  is   \"))\n",
    "\n",
    "if user_answer == num1 * num2:\n",
    "    \n",
    "    print(\"Correct! Well done!\")\n",
    "    \n",
    "else:\n",
    "    \n",
    "    print(f\"Incorrect. The correct answer is {num1 * num2}.\")\n",
    "    "
   ]
  },
  {
   "cell_type": "markdown",
   "id": "09e0476f-e58f-488b-af67-674ccd8ec945",
   "metadata": {},
   "source": [
    "# Exercise 3 : Squares of Even/Odd Numbers "
   ]
  },
  {
   "cell_type": "markdown",
   "id": "27b09261-646a-43c3-b65d-9bf7f5b646fb",
   "metadata": {},
   "source": [
    "# Squares of Even Numbers"
   ]
  },
  {
   "cell_type": "code",
   "execution_count": 13,
   "id": "e7fcab56-f785-4af2-96e8-619352238313",
   "metadata": {},
   "outputs": [
    {
     "name": "stdout",
     "output_type": "stream",
     "text": [
      "The square of 100 is 10000\n",
      "The square of 102 is 10404\n",
      "The square of 104 is 10816\n",
      "The square of 106 is 11236\n",
      "The square of 108 is 11664\n",
      "The square of 110 is 12100\n",
      "The square of 112 is 12544\n",
      "The square of 114 is 12996\n",
      "The square of 116 is 13456\n",
      "The square of 118 is 13924\n",
      "The square of 120 is 14400\n",
      "The square of 122 is 14884\n",
      "The square of 124 is 15376\n",
      "The square of 126 is 15876\n",
      "The square of 128 is 16384\n",
      "The square of 130 is 16900\n",
      "The square of 132 is 17424\n",
      "The square of 134 is 17956\n",
      "The square of 136 is 18496\n",
      "The square of 138 is 19044\n",
      "The square of 140 is 19600\n",
      "The square of 142 is 20164\n",
      "The square of 144 is 20736\n",
      "The square of 146 is 21316\n",
      "The square of 148 is 21904\n",
      "The square of 150 is 22500\n",
      "The square of 152 is 23104\n",
      "The square of 154 is 23716\n",
      "The square of 156 is 24336\n",
      "The square of 158 is 24964\n",
      "The square of 160 is 25600\n",
      "The square of 162 is 26244\n",
      "The square of 164 is 26896\n",
      "The square of 166 is 27556\n",
      "The square of 168 is 28224\n",
      "The square of 170 is 28900\n",
      "The square of 172 is 29584\n",
      "The square of 174 is 30276\n",
      "The square of 176 is 30976\n",
      "The square of 178 is 31684\n",
      "The square of 180 is 32400\n",
      "The square of 182 is 33124\n",
      "The square of 184 is 33856\n",
      "The square of 186 is 34596\n",
      "The square of 188 is 35344\n",
      "The square of 190 is 36100\n",
      "The square of 192 is 36864\n",
      "The square of 194 is 37636\n",
      "The square of 196 is 38416\n",
      "The square of 198 is 39204\n",
      "The square of 200 is 40000\n"
     ]
    }
   ],
   "source": [
    "start = 100\n",
    "end   = 200\n",
    "for num in range(start, end + 1):\n",
    "    if num % 2 == 0:\n",
    "        print(f\"The square of {num} is {num**2}\")"
   ]
  },
  {
   "cell_type": "markdown",
   "id": "176f9927-06a5-49a1-853a-c5e384190356",
   "metadata": {},
   "source": [
    "# Squares of Odd Numbers"
   ]
  },
  {
   "cell_type": "code",
   "execution_count": 15,
   "id": "b441c09d-4ead-4ab3-b71d-7320d9f80442",
   "metadata": {},
   "outputs": [
    {
     "name": "stdout",
     "output_type": "stream",
     "text": [
      "The square of 101 is 10201\n",
      "The square of 103 is 10609\n",
      "The square of 105 is 11025\n",
      "The square of 107 is 11449\n",
      "The square of 109 is 11881\n",
      "The square of 111 is 12321\n",
      "The square of 113 is 12769\n",
      "The square of 115 is 13225\n",
      "The square of 117 is 13689\n",
      "The square of 119 is 14161\n",
      "The square of 121 is 14641\n",
      "The square of 123 is 15129\n",
      "The square of 125 is 15625\n",
      "The square of 127 is 16129\n",
      "The square of 129 is 16641\n",
      "The square of 131 is 17161\n",
      "The square of 133 is 17689\n",
      "The square of 135 is 18225\n",
      "The square of 137 is 18769\n",
      "The square of 139 is 19321\n",
      "The square of 141 is 19881\n",
      "The square of 143 is 20449\n",
      "The square of 145 is 21025\n",
      "The square of 147 is 21609\n",
      "The square of 149 is 22201\n",
      "The square of 151 is 22801\n",
      "The square of 153 is 23409\n",
      "The square of 155 is 24025\n",
      "The square of 157 is 24649\n",
      "The square of 159 is 25281\n",
      "The square of 161 is 25921\n",
      "The square of 163 is 26569\n",
      "The square of 165 is 27225\n",
      "The square of 167 is 27889\n",
      "The square of 169 is 28561\n",
      "The square of 171 is 29241\n",
      "The square of 173 is 29929\n",
      "The square of 175 is 30625\n",
      "The square of 177 is 31329\n",
      "The square of 179 is 32041\n",
      "The square of 181 is 32761\n",
      "The square of 183 is 33489\n",
      "The square of 185 is 34225\n",
      "The square of 187 is 34969\n",
      "The square of 189 is 35721\n",
      "The square of 191 is 36481\n",
      "The square of 193 is 37249\n",
      "The square of 195 is 38025\n",
      "The square of 197 is 38809\n",
      "The square of 199 is 39601\n"
     ]
    }
   ],
   "source": [
    "start = 100\n",
    "end   = 200\n",
    "for num in range(start, end + 1):\n",
    "    if num % 2 != 0:\n",
    "        print(f\"The square of {num} is {num**2}\")"
   ]
  },
  {
   "cell_type": "markdown",
   "id": "b159357e-a7b0-4790-b796-03532ab4fb0e",
   "metadata": {},
   "source": [
    "# Exercise 4 : Word Counter"
   ]
  },
  {
   "cell_type": "code",
   "execution_count": 19,
   "id": "424122b2-49c4-4108-ae07-375d5f5322d3",
   "metadata": {},
   "outputs": [
    {
     "name": "stdout",
     "output_type": "stream",
     "text": [
      "'This': 2\n",
      "'is': 1\n",
      "'a': 1\n",
      "'sample': 1\n",
      "'text.': 1\n",
      "'text': 1\n",
      "'will': 1\n",
      "'be': 1\n",
      "'used': 1\n",
      "'to': 1\n",
      "'demonstrate': 1\n",
      "'the': 1\n",
      "'word': 1\n",
      "'counter.': 1\n"
     ]
    }
   ],
   "source": [
    "from collections import Counter\n",
    "\n",
    "def word_count(input_text):\n",
    "    # Splitting  the text into words based on whitespace\n",
    "    words = input_text.split()\n",
    "    \n",
    "    #  counting  the frequency of each word\n",
    "    word_counter = Counter(words)\n",
    "    \n",
    "    for word, count in word_counter.items():\n",
    "        print(f\"'{word}': {count}\")\n",
    "\n",
    "input_text = \"This is a sample text. This text will be used to demonstrate the word counter.\"\n",
    "word_count(input_text)"
   ]
  },
  {
   "cell_type": "markdown",
   "id": "48b81587-43fd-4c68-81f8-635958521a3c",
   "metadata": {},
   "source": [
    "# Exercise 5 : Check for Palindrome"
   ]
  },
  {
   "cell_type": "code",
   "execution_count": 23,
   "id": "c411a8f9-9009-4217-b7d5-6bf0ef9c930a",
   "metadata": {},
   "outputs": [
    {
     "name": "stdin",
     "output_type": "stream",
     "text": [
      "Enter the string :  malayalam\n"
     ]
    },
    {
     "name": "stdout",
     "output_type": "stream",
     "text": [
      "True ,the  string is a palindrome\n"
     ]
    }
   ],
   "source": [
    "def isPalindrome(s):\n",
    "    return s == s[::-1]\n",
    "\n",
    "s=input(\"Enter the string : \")\n",
    "palin = isPalindrome(s)\n",
    "\n",
    "if palin:\n",
    "    print(\"True ,the  string is a palindrome\")\n",
    "else:\n",
    "    print(\"False,the string is not palindrome\")"
   ]
  },
  {
   "cell_type": "code",
   "execution_count": null,
   "id": "0ee969c9-02c3-4517-97ae-a1b1b61a8c6e",
   "metadata": {},
   "outputs": [],
   "source": []
  }
 ],
 "metadata": {
  "kernelspec": {
   "display_name": "Python 3 (ipykernel)",
   "language": "python",
   "name": "python3"
  },
  "language_info": {
   "codemirror_mode": {
    "name": "ipython",
    "version": 3
   },
   "file_extension": ".py",
   "mimetype": "text/x-python",
   "name": "python",
   "nbconvert_exporter": "python",
   "pygments_lexer": "ipython3",
   "version": "3.12.4"
  }
 },
 "nbformat": 4,
 "nbformat_minor": 5
}
