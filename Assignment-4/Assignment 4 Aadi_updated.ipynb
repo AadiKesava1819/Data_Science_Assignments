{
 "cells": [
  {
   "cell_type": "markdown",
   "id": "d22a9721-b424-40fa-b3e3-1d3b73691d88",
   "metadata": {},
   "source": [
    "# CHISQUARE TEST"
   ]
  },
  {
   "cell_type": "markdown",
   "id": "d1ab6e96-5036-4d27-bb7a-1d2c9895686e",
   "metadata": {},
   "source": [
    "Hypotheses Statement:\n",
    "\n",
    " Null Hypothesis (H0): There is no association between the type of smart home device purchased and customer satisfaction.\n",
    " \n",
    " Alternative Hypothesis (H1): There is an association between the type of smart home device purchased and customer satisfaction.\n"
   ]
  },
  {
   "cell_type": "code",
   "execution_count": 24,
   "id": "157b94b0-6131-4651-a6b8-40621ff47f06",
   "metadata": {},
   "outputs": [],
   "source": [
    "import numpy as np\n",
    "import scipy.stats as stats"
   ]
  },
  {
   "cell_type": "markdown",
   "id": "8b72fad7-27d0-4836-9f58-6788f5f68ce4",
   "metadata": {},
   "source": [
    "# Chi-Square Statistic"
   ]
  },
  {
   "cell_type": "code",
   "execution_count": 26,
   "id": "aa5391bc-e08d-4017-a662-1f6a8d4e3940",
   "metadata": {},
   "outputs": [],
   "source": [
    "\n",
    "# Observed frequency table\n",
    "observed = np.array([[50, 70],\n",
    "                      [80, 100],\n",
    "                      [60, 90],\n",
    "                      [30, 50],\n",
    "                      [20, 50]])\n",
    "\n",
    "# Compute row and column totals\n",
    "row_totals = observed.sum(axis=1).reshape(-1, 1)\n",
    "col_totals = observed.sum(axis=0)\n",
    "grand_total = observed.sum()\n",
    "\n",
    "# Expected frequencies\n",
    "expected = (row_totals @ col_totals.reshape(1, -1)) / grand_total\n",
    "\n",
    "# Compute Chi-Square statistic\n",
    "chi_square_statistic = ((observed - expected) ** 2 / expected).sum()"
   ]
  },
  {
   "cell_type": "code",
   "execution_count": 28,
   "id": "ad2d9493-cd6f-4fa2-a913-f0b674318ba6",
   "metadata": {},
   "outputs": [
    {
     "data": {
      "text/plain": [
       "5.638227513227513"
      ]
     },
     "execution_count": 28,
     "metadata": {},
     "output_type": "execute_result"
    }
   ],
   "source": [
    "chi_square_statistic"
   ]
  },
  {
   "cell_type": "markdown",
   "id": "a07844d1-e411-4f7b-859d-02eb257b6a58",
   "metadata": {},
   "source": [
    "# Critical Value"
   ]
  },
  {
   "cell_type": "code",
   "execution_count": 32,
   "id": "a0a222c5-0b3f-4128-a054-86ab10e4a220",
   "metadata": {},
   "outputs": [],
   "source": [
    "# Step 3: Determine the Critical Value\n",
    "alpha = 0.05\n",
    "degrees_of_freedom = (observed.shape[0] - 1) * (observed.shape[1] - 1)\n",
    "critical_value = stats.chi2.ppf(1 - alpha, degrees_of_freedom)\n"
   ]
  },
  {
   "cell_type": "code",
   "execution_count": 34,
   "id": "a19b4f96-65ef-45ef-8308-824dd50f64b8",
   "metadata": {},
   "outputs": [
    {
     "data": {
      "text/plain": [
       "9.487729036781154"
      ]
     },
     "execution_count": 34,
     "metadata": {},
     "output_type": "execute_result"
    }
   ],
   "source": [
    "critical_value"
   ]
  },
  {
   "cell_type": "markdown",
   "id": "a7b82145-9b72-4ec8-9328-59ec46941319",
   "metadata": {},
   "source": [
    "# Make a Decision"
   ]
  },
  {
   "cell_type": "code",
   "execution_count": 38,
   "id": "819eeb57-079d-4df2-8f91-b9e07a9ed4bf",
   "metadata": {},
   "outputs": [],
   "source": [
    "# Step 4: Make a Decision\n",
    "if chi_square_statistic > critical_value:\n",
    "    conclusion = \"Reject the null hypothesis. There is a significant association between device type and customer satisfaction.\"\n",
    "else:\n",
    "    conclusion = \"Fail to reject the null hypothesis. There is no significant association between device type and customer satisfaction.\""
   ]
  },
  {
   "cell_type": "code",
   "execution_count": 45,
   "id": "b49b4484-67d6-41de-a6e2-3fd84c8be712",
   "metadata": {},
   "outputs": [
    {
     "name": "stdout",
     "output_type": "stream",
     "text": [
      "Chi-Square Statistic: 5.6382\n",
      "Degrees of Freedom: 4\n",
      "Critical Value: 9.4877\n"
     ]
    }
   ],
   "source": [
    "# Output results\n",
    "print(f\"Chi-Square Statistic: {chi_square_statistic:.4f}\")\n",
    "print(f\"Degrees of Freedom: {degrees_of_freedom}\")\n",
    "print(f\"Critical Value: {critical_value:.4f}\")\n"
   ]
  },
  {
   "cell_type": "markdown",
   "id": "fe3e5f9a-cc4b-4b5f-8967-fca4eb0a3aad",
   "metadata": {},
   "source": [
    "# Conclusion"
   ]
  },
  {
   "cell_type": "code",
   "execution_count": 48,
   "id": "9e97f6c7-f972-438d-aa04-d6ebb1d45d6d",
   "metadata": {},
   "outputs": [
    {
     "name": "stdout",
     "output_type": "stream",
     "text": [
      "Fail to reject the null hypothesis. There is no significant association between device type and customer satisfaction.\n"
     ]
    }
   ],
   "source": [
    "print(conclusion)"
   ]
  },
  {
   "cell_type": "code",
   "execution_count": null,
   "id": "7e3b720b-9da8-45b1-8e9f-c36ff9c8c1e2",
   "metadata": {},
   "outputs": [],
   "source": []
  },
  {
   "cell_type": "markdown",
   "id": "730b12cd-8b61-40b1-9ea6-e644a8639b47",
   "metadata": {},
   "source": [
    "# HYPOTHESIS TESTING"
   ]
  },
  {
   "cell_type": "markdown",
   "id": "f0ee59ba-6184-4af8-b3b6-a10c70239fad",
   "metadata": {},
   "source": [
    "Hypotheses Statement:\r\n",
    "\r\n",
    "Null Hypothesis (H₀): The weekly operating cost follows the model 𝜇=1000+5𝑋\r\n",
    "\r\n",
    "Alternative Hypothesis (H₁): The weekly operating cost is higher than the model μ>1000+5X.\r\n",
    "\r\n",
    "Test Statistic Calculation: Using the given data, we calculated the test statistic as: 𝑡=(𝑥ˉ−𝜇)(𝜎/𝑛) ,we can get t=-38.0\r\n",
    "\r\n",
    "Decision: Since the test statistic (-38.0) is much lower than the critical value (1.645), we do not reject the null hypothesis.\r\n",
    "\r\n",
    "Conclusion: There is insufficient evidence to support the restaurant owners' claim that the weekly operating costs are higher than the model suggests. The observed cost seems to be consistent with the theoretical model. ​"
   ]
  },
  {
   "cell_type": "code",
   "execution_count": 3,
   "id": "33170736-a773-4275-b01e-2a1f4a6f846c",
   "metadata": {},
   "outputs": [],
   "source": [
    "import math\n",
    "import scipy.stats as stats"
   ]
  },
  {
   "cell_type": "code",
   "execution_count": 5,
   "id": "dc3902bb-d59c-4d0a-9261-ab165f01f629",
   "metadata": {},
   "outputs": [],
   "source": [
    "# Given data\n",
    "sample_mean = 3050\n",
    "theoretical_mean = 1000 + 5 * 600  # 4000\n",
    "sigma = 5 * 25  # Standard deviation of the weekly cost\n",
    "n = 25  # Sample size"
   ]
  },
  {
   "cell_type": "code",
   "execution_count": 7,
   "id": "7222d5e3-c639-4c68-b88a-fd9faf8ca9c9",
   "metadata": {},
   "outputs": [],
   "source": [
    "# Calculate the test statistic\n",
    "standard_error = sigma / math.sqrt(n)\n",
    "z_value = (sample_mean - theoretical_mean) / standard_error"
   ]
  },
  {
   "cell_type": "code",
   "execution_count": 9,
   "id": "79dab945-a044-43b1-8009-9c00ff924e2f",
   "metadata": {},
   "outputs": [
    {
     "data": {
      "text/plain": [
       "-38.0"
      ]
     },
     "execution_count": 9,
     "metadata": {},
     "output_type": "execute_result"
    }
   ],
   "source": [
    "z_value"
   ]
  },
  {
   "cell_type": "markdown",
   "id": "25d1d3b1-0d95-44c7-bfaf-e268fd444047",
   "metadata": {},
   "source": [
    "# Critical Value"
   ]
  },
  {
   "cell_type": "code",
   "execution_count": 12,
   "id": "749ef58b-44a3-4a9f-9b32-46a17fa868aa",
   "metadata": {},
   "outputs": [
    {
     "name": "stdout",
     "output_type": "stream",
     "text": [
      "Sample Mean: 3050\n",
      "Theoretical Mean: 4000\n",
      "Standard Error: 25.0\n",
      "Calculated Z-value: -38.0\n",
      "Critical Z-value: 1.6448536269514722\n"
     ]
    }
   ],
   "source": [
    "# Critical value for one-tailed test at alpha = 0.05\n",
    "alpha = 0.05\n",
    "z_critical = stats.norm.ppf(1 - alpha)\n",
    "\n",
    "# Output results\n",
    "print(f\"Sample Mean: {sample_mean}\")\n",
    "print(f\"Theoretical Mean: {theoretical_mean}\")\n",
    "print(f\"Standard Error: {standard_error}\")\n",
    "print(f\"Calculated Z-value: {z_value}\")\n",
    "print(f\"Critical Z-value: {z_critical}\")"
   ]
  },
  {
   "cell_type": "markdown",
   "id": "175810f2-35ec-4922-961c-a6d64e884268",
   "metadata": {},
   "source": [
    "# Making Decision"
   ]
  },
  {
   "cell_type": "code",
   "execution_count": 15,
   "id": "572429df-9682-418c-a0b7-555a8b3f6102",
   "metadata": {},
   "outputs": [
    {
     "name": "stdout",
     "output_type": "stream",
     "text": [
      "Reject the null hypothesis.\n"
     ]
    }
   ],
   "source": [
    "if z_value < z_critical:\n",
    "    print(\"Reject the null hypothesis.\")\n",
    "else:\n",
    "    print(\"Do not reject the null hypothesis.\")"
   ]
  },
  {
   "cell_type": "markdown",
   "id": "0d1652df-ce21-4f77-b4b1-db8ddbaf89fd",
   "metadata": {},
   "source": [
    "# Conclusion"
   ]
  },
  {
   "cell_type": "code",
   "execution_count": 18,
   "id": "8cb16901-c672-4374-92c2-b567d030aab6",
   "metadata": {},
   "outputs": [
    {
     "name": "stdout",
     "output_type": "stream",
     "text": [
      "Based on the decision, there is no strong evidence to support the claim that the weekly operating costs are higher than the model suggests.\n"
     ]
    }
   ],
   "source": [
    "print(\"Based on the decision, there is no strong evidence to support the claim that the weekly operating costs are higher than the model suggests.\")"
   ]
  },
  {
   "cell_type": "code",
   "execution_count": null,
   "id": "62aea582-c09b-4eaf-b446-bb9178860c6e",
   "metadata": {},
   "outputs": [],
   "source": []
  }
 ],
 "metadata": {
  "kernelspec": {
   "display_name": "Python 3 (ipykernel)",
   "language": "python",
   "name": "python3"
  },
  "language_info": {
   "codemirror_mode": {
    "name": "ipython",
    "version": 3
   },
   "file_extension": ".py",
   "mimetype": "text/x-python",
   "name": "python",
   "nbconvert_exporter": "python",
   "pygments_lexer": "ipython3",
   "version": "3.12.4"
  }
 },
 "nbformat": 4,
 "nbformat_minor": 5
}
